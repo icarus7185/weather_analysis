{
 "cells": [
  {
   "cell_type": "code",
   "execution_count": null,
   "id": "4964aba1",
   "metadata": {},
   "outputs": [],
   "source": [
    "%pip install -r requirements.txt"
   ]
  },
  {
   "cell_type": "code",
   "execution_count": null,
   "id": "51778343",
   "metadata": {},
   "outputs": [],
   "source": [
    "# Chạy nếu chưa có data\n",
    "import open_meteo\n",
    "open_meteo.download(\"2000-01-01\", \"2009-12-31\")\n",
    "open_meteo.download(\"2020-01-01\", \"2019-12-31\")\n",
    "open_meteo.download(\"2020-01-01\", \"2025-08-31\")"
   ]
  }
 ],
 "metadata": {
  "language_info": {
   "name": "python"
  }
 },
 "nbformat": 4,
 "nbformat_minor": 5
}
